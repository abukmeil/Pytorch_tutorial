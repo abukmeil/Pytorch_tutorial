{
 "cells": [
  {
   "attachments": {},
   "cell_type": "markdown",
   "metadata": {},
   "source": [
    "<h1>Torchtext Built-in Datasets</h1>\n",
    "\n",
    "\n",
    "\n",
    "\n",
    "\n",
    "\n"
   ]
  },
  {
   "attachments": {},
   "cell_type": "markdown",
   "metadata": {},
   "source": [
    "<h3><span style='color:yellow'>Torchtext offers a variety of datasets suitable for numerous NLP tasks. These datasets can be found at: </span><a href=\"https://pytorch.org/text/stable/datasets.html#machine-translation\" style=\"color:blue; font-family: 'Arial', sans-serif;\">https://pytorch.org/text/stable/datasets.html#machine-translation</a></h3>\n",
    "\n",
    "<h3><span style='color:yellow'>In this tutorial, we will explore the Multi30k dataset, which is used in machine translation applications.</span></h3>\n",
    "\n",
    "<h3><span style='color:yellow'>The objective of this tutorial is to construct dataset objects for German- English translation.</span></h3>\n",
    "\n",
    "\n"
   ]
  },
  {
   "cell_type": "code",
   "execution_count": 2,
   "metadata": {},
   "outputs": [],
   "source": [
    "# Importing the libraries\n",
    "import torchtext\n",
    "from torchtext.datasets import Multi30k\n",
    "from torchtext.data import Field, TabularDataset, BucketIterator\n",
    "\n",
    "import spacy\n",
    "\n",
    "#!python -m spacy download en_core_web_sm\n",
    "#!python -m spacy download de_core_news_sm\n",
    "\n",
    "spacy_ger=spacy.load('de_core_news_sm')\n",
    "spacy_en=spacy.load('en_core_web_sm')"
   ]
  },
  {
   "cell_type": "code",
   "execution_count": 3,
   "metadata": {},
   "outputs": [],
   "source": [
    "# Define the german tokenizer function\n",
    "def ger_tokenizer(text):\n",
    "    return [token.text for token in spacy_ger.tokenizer(text)]\n",
    "\n",
    "\n",
    "# Define the english tokenizer function\n",
    "def en_tokenize(text):\n",
    "    return [token.text for token in spacy_en.tokenizer(text)]"
   ]
  },
  {
   "cell_type": "code",
   "execution_count": 4,
   "metadata": {},
   "outputs": [
    {
     "name": "stderr",
     "output_type": "stream",
     "text": [
      "/home/mohanad/.local/lib/python3.8/site-packages/torchtext/data/field.py:150: UserWarning: Field class will be retired soon and moved to torchtext.legacy. Please see the most recent release notes for further information.\n",
      "  warnings.warn('{} class will be retired soon and moved to torchtext.legacy. Please see the most recent release notes for further information.'.format(self.__class__.__name__), UserWarning)\n"
     ]
    }
   ],
   "source": [
    "# Define the source and target fields\n",
    "german=Field(sequential=True,use_vocab=True,tokenize=ger_tokenizer,lower=True)\n",
    "english=Field(sequential=True,use_vocab=True,tokenize=en_tokenize,lower=True)\n"
   ]
  },
  {
   "cell_type": "code",
   "execution_count": null,
   "metadata": {},
   "outputs": [],
   "source": [
    "# Dataset split\n",
    "# Note: might be will face a problem in downloading the dataset.\n",
    "train_data,validation_data,test_data=Multi30k.splits(\n",
    "    exts=('.de','en'),  # source and target language . Check teh dataset website\n",
    "    fields=(german,english)\n",
    "    )"
   ]
  },
  {
   "cell_type": "code",
   "execution_count": null,
   "metadata": {},
   "outputs": [],
   "source": [
    "# Building the vocabularies\n",
    "german.build_vocab(train_data,max_size=10000,min_freq=2)\n",
    "english.build_vocab(train_data,max_size=10000,min_freq=2)"
   ]
  },
  {
   "cell_type": "code",
   "execution_count": null,
   "metadata": {},
   "outputs": [],
   "source": [
    "# Bucketiterator\n",
    "train_iterator,validation_iterator,test_iterator=BucketIterator.splits(\n",
    "    datasets=(train_data,validation_data,test_data),\n",
    "    batch_sizes=64\n",
    "    device='cuda')"
   ]
  },
  {
   "cell_type": "code",
   "execution_count": null,
   "metadata": {},
   "outputs": [],
   "source": [
    "for batch in train_iterator:\n",
    "    print(batch)\n",
    "    print(batch.src)\n",
    "    print(batch.trg)\n",
    "    "
   ]
  },
  {
   "cell_type": "code",
   "execution_count": null,
   "metadata": {},
   "outputs": [],
   "source": [
    "# We can try either by this notebook or the command windows to run the following command\n",
    "english.vocab.stoi['the']  # stoi stands for string to index\n",
    "english.vocab.itos[4]  # itos stands for index to string  (4 is the index of 'the')\n"
   ]
  }
 ],
 "metadata": {
  "kernelspec": {
   "display_name": "base",
   "language": "python",
   "name": "python3"
  },
  "language_info": {
   "codemirror_mode": {
    "name": "ipython",
    "version": 3
   },
   "file_extension": ".py",
   "mimetype": "text/x-python",
   "name": "python",
   "nbconvert_exporter": "python",
   "pygments_lexer": "ipython3",
   "version": "3.8.10"
  },
  "orig_nbformat": 4
 },
 "nbformat": 4,
 "nbformat_minor": 2
}
