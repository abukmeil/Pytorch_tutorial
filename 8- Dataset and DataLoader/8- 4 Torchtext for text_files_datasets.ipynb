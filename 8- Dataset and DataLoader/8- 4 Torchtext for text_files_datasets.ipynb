{
 "cells": [
  {
   "attachments": {},
   "cell_type": "markdown",
   "metadata": {},
   "source": [
    "<h1>Torchtext with textfiles datastes </h1>\n",
    "\n",
    "\n",
    "\n",
    "\n",
    "\n",
    "\n"
   ]
  },
  {
   "attachments": {},
   "cell_type": "markdown",
   "metadata": {},
   "source": [
    "<h3><span style='color:yellow'>This tutorial covers the approach for handling datasets presented in local text files.</span></h3>\n",
    "\n",
    "<h3><span style='color:yellow'>The task at hand is a German-English translation based on a subset of 40 samples from the WMT dataset.</span></h3>\n",
    "\n",
    "\n",
    "<h3><span style='color:yellow'>Each text file comprises rows of text, and the corresponding translations are found in another file at the same row index.</span></h3>\n",
    "\n",
    "\n"
   ]
  },
  {
   "cell_type": "code",
   "execution_count": 2,
   "metadata": {},
   "outputs": [],
   "source": [
    "# Importing libraries\n",
    "import pandas as pd\n",
    "import spacy\n",
    "from sklearn.model_selection import train_test_split\n",
    "from torchtext.data import Field, TabularDataset,BucketIterator\n"
   ]
  },
  {
   "cell_type": "code",
   "execution_count": 7,
   "metadata": {},
   "outputs": [
    {
     "data": {
      "text/html": [
       "<div>\n",
       "<style scoped>\n",
       "    .dataframe tbody tr th:only-of-type {\n",
       "        vertical-align: middle;\n",
       "    }\n",
       "\n",
       "    .dataframe tbody tr th {\n",
       "        vertical-align: top;\n",
       "    }\n",
       "\n",
       "    .dataframe thead th {\n",
       "        text-align: right;\n",
       "    }\n",
       "</style>\n",
       "<table border=\"1\" class=\"dataframe\">\n",
       "  <thead>\n",
       "    <tr style=\"text-align: right;\">\n",
       "      <th></th>\n",
       "      <th>English</th>\n",
       "      <th>German</th>\n",
       "    </tr>\n",
       "  </thead>\n",
       "  <tbody>\n",
       "    <tr>\n",
       "      <th>0</th>\n",
       "      <td>iron cement is a ready for use paste which is ...</td>\n",
       "      <td>iron cement ist eine gebrauchs ##AT##-##AT## f...</td>\n",
       "    </tr>\n",
       "    <tr>\n",
       "      <th>1</th>\n",
       "      <td>iron cement protects the ingot against the hot...</td>\n",
       "      <td>Nach der Aushärtung schützt iron cement die Ko...</td>\n",
       "    </tr>\n",
       "  </tbody>\n",
       "</table>\n",
       "</div>"
      ],
      "text/plain": [
       "                                             English  \\\n",
       "0  iron cement is a ready for use paste which is ...   \n",
       "1  iron cement protects the ingot against the hot...   \n",
       "\n",
       "                                              German  \n",
       "0  iron cement ist eine gebrauchs ##AT##-##AT## f...  \n",
       "1  Nach der Aushärtung schützt iron cement die Ko...  "
      ]
     },
     "execution_count": 7,
     "metadata": {},
     "output_type": "execute_result"
    }
   ],
   "source": [
    "# Opening datasets files\n",
    "english_text=open(\"./datastes/text data/WMT_en.txt\",encoding=\"utf-8\").read().split(\"\\n\") # spliting based on new line\n",
    "german_txt=open(\"./datastes/text data/WMT_de.txt\",encoding=\"utf-8\").read().split(\"\\n\") # spliting based on new line\n",
    "\n",
    "raw_data= {'German':[line for line in german_txt], 'English': [line for line in english_text]} # creating a dictionary of the data\n",
    "\n",
    "# Locatting the data into a dataframe\n",
    "df=pd.DataFrame(raw_data,columns=[\"English\",\"German\"])\n",
    "df.head(2)"
   ]
  },
  {
   "cell_type": "code",
   "execution_count": 12,
   "metadata": {},
   "outputs": [],
   "source": [
    "# Splitting the data into train and test\n",
    "train, test=train_test_split(df,test_size=0.2, random_state=1234)\n",
    "\n",
    "# Remember, TabularDataset requires data to be in json, CSV, TSV file format\n",
    "train.to_json(\"./datastes/text data/WMT_train.json\",orient='records',lines=True) #'records': List in which each item corresponds to a DataFrame row, formatted as a dictionary.\n",
    "test.to_json(\"./datastes/text data/WMT_test.json\",orient='records',lines=True)    # True: Read the file as a json object per line.\n",
    "\n",
    "# We can covert it to CSV also as follows\n",
    "#train.to_csv(\"./datastes/text data/WMT_train.csv\",index=False)\n",
    "#test.to_csv(\"./datastes/text data/WMT_test.csv\",index=False)\n"
   ]
  },
  {
   "cell_type": "code",
   "execution_count": 20,
   "metadata": {},
   "outputs": [],
   "source": [
    "# Tokenization\n",
    "spacy_de=spacy.load(\"de_core_news_sm\")\n",
    "spacy_en=spacy.load(\"en_core_web_sm\")\n",
    "\n",
    "def german_tokenizer(text):\n",
    "    return [token.text for token in spacy_de.tokenizer(text)]\n",
    "\n",
    "def english_tokenizer(text):\n",
    "    return [token.text for token in spacy_en.tokenizer(text)]\n",
    "\n",
    "german=Field(sequential=True,use_vocab=True,tokenize=german_tokenizer,lower=True)\n",
    "english=Field(sequential=True,use_vocab=True,tokenize=english_tokenizer,lower=True)"
   ]
  },
  {
   "cell_type": "code",
   "execution_count": 29,
   "metadata": {},
   "outputs": [],
   "source": [
    "# TabularDataset\n",
    "path='./datastes/text data/'\n",
    "fields={'German':('de',german),'English':('en',english)}\n",
    "\n",
    "train_data,test_data=TabularDataset.splits(\n",
    "    path=path,\n",
    "    train='WMT_train.json',\n",
    "    test='WMT_test.json',\n",
    "    format='json',\n",
    "    fields=fields\n",
    ")\n"
   ]
  },
  {
   "cell_type": "code",
   "execution_count": 30,
   "metadata": {},
   "outputs": [],
   "source": [
    "# Building vocabulary\n",
    "german.build_vocab(train_data,max_size=10000,min_freq=2)\n",
    "english.build_vocab(train_data,max_size=10000,min_freq=2)"
   ]
  },
  {
   "cell_type": "code",
   "execution_count": 61,
   "metadata": {},
   "outputs": [
    {
     "name": "stderr",
     "output_type": "stream",
     "text": [
      "/home/mohanad/.local/lib/python3.8/site-packages/torchtext/data/iterator.py:48: UserWarning: BucketIterator class will be retired soon and moved to torchtext.legacy. Please see the most recent release notes for further information.\n",
      "  warnings.warn('{} class will be retired soon and moved to torchtext.legacy. Please see the most recent release notes for further information.'.format(self.__class__.__name__), UserWarning)\n"
     ]
    }
   ],
   "source": [
    "#BuckqetIterator\n",
    "train_iterator,test_iterator=BucketIterator.splits(\n",
    "    (train_data,test_data),\n",
    "    batch_size=32,\n",
    "    device='cpu')"
   ]
  },
  {
   "cell_type": "code",
   "execution_count": 65,
   "metadata": {},
   "outputs": [
    {
     "name": "stdout",
     "output_type": "stream",
     "text": [
      "tensor([[  2,   2,  38,  ...,  17,  28,  38],\n",
      "        [  9,   9,   8,  ...,   0,  12,  19],\n",
      "        [ 52,  52,   6,  ...,   6,  33,  41],\n",
      "        ...,\n",
      "        [ 71,  71,   1,  ...,   1,   1,   1],\n",
      "        [109, 109,   1,  ...,   1,   1,   1],\n",
      "        [ 14,  14,   1,  ...,   1,   1,   1]])\n"
     ]
    },
    {
     "name": "stderr",
     "output_type": "stream",
     "text": [
      "/home/mohanad/.local/lib/python3.8/site-packages/torchtext/data/batch.py:23: UserWarning: Batch class will be retired soon and moved to torchtext.legacy. Please see the most recent release notes for further information.\n",
      "  warnings.warn('{} class will be retired soon and moved to torchtext.legacy. Please see the most recent release notes for further information.'.format(self.__class__.__name__), UserWarning)\n"
     ]
    }
   ],
   "source": [
    "for batch in train_iterator:\n",
    "    print(batch.en)"
   ]
  },
  {
   "cell_type": "code",
   "execution_count": 63,
   "metadata": {},
   "outputs": [
    {
     "name": "stderr",
     "output_type": "stream",
     "text": [
      "/home/mohanad/.local/lib/python3.8/site-packages/torchtext/data/batch.py:23: UserWarning: Batch class will be retired soon and moved to torchtext.legacy. Please see the most recent release notes for further information.\n",
      "  warnings.warn('{} class will be retired soon and moved to torchtext.legacy. Please see the most recent release notes for further information.'.format(self.__class__.__name__), UserWarning)\n"
     ]
    }
   ],
   "source": [
    "import torch\n",
    "device=torch.device('cuda:0' if torch.cuda.is_available() else 'cpu')\n",
    "\n",
    "for batch in train_iterator:\n",
    "    data=batch.de.to(device)"
   ]
  },
  {
   "cell_type": "code",
   "execution_count": null,
   "metadata": {},
   "outputs": [],
   "source": []
  },
  {
   "cell_type": "code",
   "execution_count": null,
   "metadata": {},
   "outputs": [],
   "source": []
  }
 ],
 "metadata": {
  "kernelspec": {
   "display_name": "base",
   "language": "python",
   "name": "python3"
  },
  "language_info": {
   "codemirror_mode": {
    "name": "ipython",
    "version": 3
   },
   "file_extension": ".py",
   "mimetype": "text/x-python",
   "name": "python",
   "nbconvert_exporter": "python",
   "pygments_lexer": "ipython3",
   "version": "3.8.10"
  },
  "orig_nbformat": 4
 },
 "nbformat": 4,
 "nbformat_minor": 2
}
