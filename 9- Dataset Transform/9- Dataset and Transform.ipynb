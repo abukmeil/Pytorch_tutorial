{
 "cells": [
  {
   "attachments": {},
   "cell_type": "markdown",
   "metadata": {},
   "source": [
    "<h1>Dataset and Transforms</h1> \n"
   ]
  },
  {
   "attachments": {},
   "cell_type": "markdown",
   "metadata": {},
   "source": [
    "\n",
    "<h3 span style='color:yellow'>When we load a dataset using the PyTorch Dataset class, we can set the 'transform' argument within the class constructor.</h3>\n",
    "\n",
    "<h3 span style='color:yellow'>Transform is a method that converts the data's shape, format, etc., such as converting data from the NumPy format into the PyTorch tensor format. Other kinds of transformations include data normalization and scaling.</h3>\n",
    "\n",
    "<h3 span style='color:yellow'>PyTorch includes many different off-the-shelf transforms that are easy to implement.\n",
    "\n",
    "</h3>\n",
    "\n",
    "<h3 span style='color:yellow'>Transforms can be applied to images, tensors, ndarrays, or custom data\n",
    "during creation of the Dataset.</h3>\n",
    "\n",
    "<ul>\n",
    "<h3 span style='color:yellow'> Transforms that are applied to tensor data:</h3>\n",
    "<ul>\n",
    "  <li style=\"color:lightgreen;\"><span style=\"font-size:18px;\"> LinearTransformation, Normalize, RandomErasing, etc.</span></li>\n",
    "</ul>\n",
    "\n",
    "<h3 span style='color:yellow'> Transform that are applied to images:</h3>\n",
    "<ul>\n",
    "  <li style=\"color:lightgreen;\"><span style=\"font-size:18px;\"> CenterCrop, Grayscale, Pad, RandomAffine,\n",
    "RandomCrop, RandomHorizontalFlip, RandomRotation\n",
    "Resize, Scale, etc.</span></li>\n",
    "</ul>\n",
    "\n",
    "<h3 span style='color:yellow'> Transforms that are used for conversion:</h3>\n",
    "<ul>\n",
    "  <li style=\"color:lightgreen;\"><span style=\"font-size:18px;\"> ToPILImage: from tensor or ndrarray. \n",
    "ToTensor : from numpy.ndarray or PILImage</span></li>\n",
    "</ul>\n",
    "\n",
    "<h3 span style='color:yellow'> Generic transforms:</h3>\n",
    "<ul>\n",
    "  <li style=\"color:lightgreen;\"><span style=\"font-size:18px;\"> UseLambda</span></li>\n",
    "</ul>\n",
    "\n",
    "<h3 span style='color:yellow'> Custom transforms:</h3>\n",
    "<ul>\n",
    "  <li style=\"color:lightgreen;\"><span style=\"font-size:18px;\">That is implemented by writing your own Python class, provided that the __call__ method is used to convert the class object into a callable object.</span></li>\n",
    "</ul>\n",
    "</ul>\n",
    "\n",
    "<h3 span style='color:yellow'>The complete list of built-in transforms can be found:  <span style='color:lightgreen'>https://pytorch.org/docs/stable/torchvision/transforms.html</span></h3>\n",
    "\n"
   ]
  },
  {
   "cell_type": "code",
   "execution_count": 36,
   "metadata": {},
   "outputs": [],
   "source": [
    "import torch, torchvision\n",
    "from torch.utils.data import Dataset\n",
    "import numpy as np"
   ]
  },
  {
   "cell_type": "code",
   "execution_count": 37,
   "metadata": {},
   "outputs": [],
   "source": [
    "class MyDataset:\n",
    "    def __init__(self,transform=None):\n",
    "        Xy=np.loadtxt(\"synthetic_classification_data copy.csv\",delimiter=',',skiprows=1, dtype=np.float32)\n",
    "        \n",
    "        # There's no need to convert the following NumPy array to a tensor; we will do that using transform\n",
    "        self.X=Xy[:,1:]\n",
    "        self.y=Xy[:,[0]]\n",
    "        self.n_samples=self.X.shape[0]\n",
    "        \n",
    "        self.transform=transform\n",
    "        \n",
    "    def __len__(self):\n",
    "        return self.n_samples\n",
    "\n",
    "    def __getitem__(self,index):\n",
    "        sample= self.X[index], self.y[index]\n",
    "        \n",
    "        if self.transform:\n",
    "            sample=self.transform(sample)\n",
    "        return sample"
   ]
  },
  {
   "cell_type": "code",
   "execution_count": 38,
   "metadata": {},
   "outputs": [
    {
     "name": "stdout",
     "output_type": "stream",
     "text": [
      "<class 'torch.Tensor'>\n"
     ]
    }
   ],
   "source": [
    "# We define our own transform class that will convert the numpy array to a tensor (This is as an example; we could do this inside the dataset class, but we want to show the analogy of a custom transform).\n",
    "class Totensor:\n",
    "    def __call__(self,sample):\n",
    "        # unpack sample\n",
    "        data,label=sample\n",
    "        return torch.from_numpy(data), torch.from_numpy(label)\n",
    "dataset1= MyDataset(transform=Totensor())\n",
    "\n",
    "first_sample1=dataset[0]\n",
    "data1,label1=first_sample1\n",
    "# Assure that the numpy array has been transformed into a tensor, we print the data type \n",
    "print(type(data1))"
   ]
  },
  {
   "cell_type": "code",
   "execution_count": 39,
   "metadata": {},
   "outputs": [],
   "source": [
    "# Let us apply another transform\n",
    "class Facotrscaler:\n",
    "    def __init__(self,factor):\n",
    "        self.factor=factor\n",
    "    \n",
    "    def __call__(self, sample):\n",
    "        data, label=sample\n",
    "        data*=self.factor\n",
    "        return data,label"
   ]
  },
  {
   "cell_type": "code",
   "execution_count": 40,
   "metadata": {},
   "outputs": [
    {
     "name": "stdout",
     "output_type": "stream",
     "text": [
      "f The data with Totensor transform tensor([0.3257, 0.6295, 0.2986])<><> The data with bboth transform tensor([1.7914, 3.4622, 1.6425])\n"
     ]
    }
   ],
   "source": [
    "# To apply the above two tarnsforms together, i.e., Totensor and Factorscaler we use the composed transforms\n",
    "from torchvision import transforms\n",
    "composed_transform=transforms.Compose([Totensor(),Facotrscaler(5.5)])  # Suppose the \n",
    "dataset2=MyDataset(transform=composed_transform)\n",
    "first_sample2=dataset2[0]\n",
    "data2,label2=first_sample2\n",
    "print(f'f The data with Totensor transform {data1}<><> The data with bboth transform {data2}')\n"
   ]
  }
 ],
 "metadata": {
  "kernelspec": {
   "display_name": "base",
   "language": "python",
   "name": "python3"
  },
  "language_info": {
   "codemirror_mode": {
    "name": "ipython",
    "version": 3
   },
   "file_extension": ".py",
   "mimetype": "text/x-python",
   "name": "python",
   "nbconvert_exporter": "python",
   "pygments_lexer": "ipython3",
   "version": "3.8.10"
  },
  "orig_nbformat": 4
 },
 "nbformat": 4,
 "nbformat_minor": 2
}
