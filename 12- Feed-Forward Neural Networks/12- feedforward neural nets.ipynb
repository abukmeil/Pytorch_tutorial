{
 "cells": [
  {
   "attachments": {},
   "cell_type": "markdown",
   "metadata": {},
   "source": [
    "<h1>Feed-Forward Neural Network</h1> \n"
   ]
  },
  {
   "attachments": {},
   "cell_type": "markdown",
   "metadata": {},
   "source": [
    "<h3 style=\"color: yellow;\">This tutorial covers the implementation of a feedforward neural network for digit classification using the MNIST dataset.</h3>\n",
    "\n",
    "<h3 style=\"color: yellow;\">This tutorial builds upon the previous tutorials where we utilized:</h3>\n",
    "\n",
    "\n",
    "<ul>\n",
    "  <li><span style=\"color:yellow; font-size: 110%;\">DataLoader for loading the MNIST dataset.</span></li>\n",
    "  <li><span style=\"color:yellow; font-size: 110%;\">Transform for MNIST dataset transformation.</span></li>\n",
    "  <li><span style=\"color:yellow; font-size: 110%;\">nn.Module to construct our model with an input layer, a hidden layer, and an output layer.</span></li>\n",
    "  <li><span style=\"color:yellow; font-size: 110%;\">Activation functions ReLU and Softmax (Softmax embedded within the loss).</span></li>\n",
    "  <li><span style=\"color:yellow; font-size: 110%;\">Loss and optimization.</span></li>\n",
    "  <li><span style=\"color:yellow; font-size: 110%;\">Batch training loop.</span></li>\n",
    "  <li><span style=\"color:yellow; font-size: 110%;\">Model evaluation.</span></li>\n",
    "  <li><span style=\"color:yellow; font-size: 110%;\">GPU support.</span></li>\n",
    "</ul>\n",
    "\n",
    "\n",
    "\n",
    "\n",
    "<div style=\"display: flex; justify-content: center;\">\n",
    "    <img src='bio_activation.png' width=500>\n",
    "</div>\n"
   ]
  },
  {
   "cell_type": "code",
   "execution_count": 29,
   "metadata": {},
   "outputs": [],
   "source": [
    "import torch\n",
    "import torch.nn as nn\n",
    "import torchvision\n",
    "import torchvision.transforms as transforms\n",
    "import matplotlib.pyplot as plt"
   ]
  },
  {
   "cell_type": "code",
   "execution_count": 30,
   "metadata": {},
   "outputs": [],
   "source": [
    "# Device config\n",
    "device=torch.device(\"cuda:0\" if torch.cuda.is_available() else 'cpu')\n"
   ]
  },
  {
   "cell_type": "code",
   "execution_count": 31,
   "metadata": {},
   "outputs": [],
   "source": [
    "# Hyper-parameters definition\n",
    "INPUT_SIZE=784 # 28*28 image size\n",
    "HIDDEN_SIZE=200\n",
    "OUTPUT_SIZE=10\n",
    "EPOCHS=10\n",
    "BATCH_SIZE=64\n",
    "LR=0.001"
   ]
  },
  {
   "cell_type": "code",
   "execution_count": 32,
   "metadata": {},
   "outputs": [],
   "source": [
    "# MNIST dataset\n",
    "train_dataset=torchvision.datasets.MNIST(root='./data',\n",
    "                                         train=True,\n",
    "                                         transform=transforms.ToTensor(),download=True)\n",
    "\n",
    "test_dataset=torchvision.datasets.MNIST(root='./data',train=False,\n",
    "                                        transform=transforms.ToTensor())"
   ]
  },
  {
   "cell_type": "code",
   "execution_count": 33,
   "metadata": {},
   "outputs": [
    {
     "name": "stdout",
     "output_type": "stream",
     "text": [
      "The shape of the first batch: torch.Size([64, 1, 28, 28]) || The shape of the first batch of labels torch.Size([64])\n"
     ]
    }
   ],
   "source": [
    "# DataLoader\n",
    "train_loader=torch.utils.data.DataLoader(dataset=train_dataset,batch_size=BATCH_SIZE,shuffle=True)\n",
    "test_loader=torch.utils.data.DataLoader(dataset=test_dataset,batch_size=BATCH_SIZE,shuffle=True)\n",
    "\n",
    "# Print the first batch by converting the train_loader into an iterator object.\n",
    "batch_iter=iter(train_loader)\n",
    "samples, labels=next(batch_iter)\n",
    "print(f'The shape of the first batch: {samples.shape} || The shape of the first batch of labels {labels.shape}')\n",
    "# [64,1,28,28]---> [batch,channel,nrows,ncolumns]\n"
   ]
  },
  {
   "cell_type": "code",
   "execution_count": 34,
   "metadata": {},
   "outputs": [
    {
     "data": {
      "image/png": "[encoded data removed]",
      "text/plain": [
       "<Figure size 432x288 with 9 Axes>"
      ]
     },
     "metadata": {
      "needs_background": "light"
     },
     "output_type": "display_data"
    }
   ],
   "source": [
    "# Plot a sample of  images\n",
    "for i in range(9):\n",
    "    plt.subplot(3,3,i+1)\n",
    "    plt.imshow(samples[i][0],cmap='gray') # We use samples[i][0] with [0] since we intend to access the first channel.\n",
    "plt.show()\n",
    "    "
   ]
  },
  {
   "cell_type": "code",
   "execution_count": 35,
   "metadata": {},
   "outputs": [],
   "source": [
    "# Model \n",
    "class NNET(nn.Module):\n",
    "    def __init__(self, INPUT_SIZE,HIDDEN_SIZE,OUTPUT_SIZE, *args, **kwargs):\n",
    "        super(NNET,self).__init__(*args, **kwargs)\n",
    "        self.l1=nn.Linear(INPUT_SIZE,HIDDEN_SIZE)\n",
    "        self.relu=nn.ReLU(self.l1)\n",
    "        self.l2=nn.Linear(HIDDEN_SIZE,OUTPUT_SIZE) # OUTPUT_SIZE == Numof example\n",
    "    \n",
    "    def forward(self,x):\n",
    "        out=self.relu(self.l1(x))\n",
    "        out=self.l2(out) \n",
    "        #Note: In this context, we refrain from using an activation function due to our intention to apply the binary cross-entropy loss, which inherently incorporates the activation function\n",
    "        return out    \n"
   ]
  },
  {
   "cell_type": "code",
   "execution_count": 36,
   "metadata": {},
   "outputs": [],
   "source": [
    "# model, loss, and optimization\n",
    "model=NNET(INPUT_SIZE,HIDDEN_SIZE,OUTPUT_SIZE).to(device)\n",
    "loss=nn.CrossEntropyLoss()\n",
    "optimizer=torch.optim.Adam(model.parameters(),lr=LR)"
   ]
  },
  {
   "cell_type": "code",
   "execution_count": 37,
   "metadata": {},
   "outputs": [
    {
     "name": "stdout",
     "output_type": "stream",
     "text": [
      "epoch 1/ 10, step 50/938, loss =0.648\n"
     ]
    },
    {
     "name": "stdout",
     "output_type": "stream",
     "text": [
      "epoch 1/ 10, step 100/938, loss =0.489\n",
      "epoch 1/ 10, step 150/938, loss =0.366\n",
      "epoch 1/ 10, step 200/938, loss =0.213\n",
      "epoch 1/ 10, step 250/938, loss =0.225\n",
      "epoch 1/ 10, step 300/938, loss =0.154\n",
      "epoch 1/ 10, step 350/938, loss =0.170\n",
      "epoch 1/ 10, step 400/938, loss =0.364\n",
      "epoch 1/ 10, step 450/938, loss =0.183\n",
      "epoch 1/ 10, step 500/938, loss =0.356\n",
      "epoch 1/ 10, step 550/938, loss =0.152\n",
      "epoch 1/ 10, step 600/938, loss =0.210\n",
      "epoch 1/ 10, step 650/938, loss =0.346\n",
      "epoch 1/ 10, step 700/938, loss =0.228\n",
      "epoch 1/ 10, step 750/938, loss =0.334\n",
      "epoch 1/ 10, step 800/938, loss =0.329\n",
      "epoch 1/ 10, step 850/938, loss =0.139\n",
      "epoch 1/ 10, step 900/938, loss =0.129\n",
      "epoch 2/ 10, step 50/938, loss =0.118\n",
      "epoch 2/ 10, step 100/938, loss =0.054\n",
      "epoch 2/ 10, step 150/938, loss =0.172\n",
      "epoch 2/ 10, step 200/938, loss =0.204\n",
      "epoch 2/ 10, step 250/938, loss =0.104\n",
      "epoch 2/ 10, step 300/938, loss =0.061\n",
      "epoch 2/ 10, step 350/938, loss =0.072\n",
      "epoch 2/ 10, step 400/938, loss =0.159\n",
      "epoch 2/ 10, step 450/938, loss =0.142\n",
      "epoch 2/ 10, step 500/938, loss =0.046\n",
      "epoch 2/ 10, step 550/938, loss =0.133\n",
      "epoch 2/ 10, step 600/938, loss =0.104\n",
      "epoch 2/ 10, step 650/938, loss =0.184\n",
      "epoch 2/ 10, step 700/938, loss =0.159\n",
      "epoch 2/ 10, step 750/938, loss =0.148\n",
      "epoch 2/ 10, step 800/938, loss =0.131\n",
      "epoch 2/ 10, step 850/938, loss =0.151\n",
      "epoch 2/ 10, step 900/938, loss =0.150\n",
      "epoch 3/ 10, step 50/938, loss =0.111\n",
      "epoch 3/ 10, step 100/938, loss =0.228\n",
      "epoch 3/ 10, step 150/938, loss =0.131\n",
      "epoch 3/ 10, step 200/938, loss =0.019\n",
      "epoch 3/ 10, step 250/938, loss =0.057\n",
      "epoch 3/ 10, step 300/938, loss =0.277\n",
      "epoch 3/ 10, step 350/938, loss =0.024\n",
      "epoch 3/ 10, step 400/938, loss =0.037\n",
      "epoch 3/ 10, step 450/938, loss =0.115\n",
      "epoch 3/ 10, step 500/938, loss =0.080\n",
      "epoch 3/ 10, step 550/938, loss =0.025\n",
      "epoch 3/ 10, step 600/938, loss =0.034\n",
      "epoch 3/ 10, step 650/938, loss =0.027\n",
      "epoch 3/ 10, step 700/938, loss =0.042\n",
      "epoch 3/ 10, step 750/938, loss =0.091\n",
      "epoch 3/ 10, step 800/938, loss =0.062\n",
      "epoch 3/ 10, step 850/938, loss =0.115\n",
      "epoch 3/ 10, step 900/938, loss =0.103\n",
      "epoch 4/ 10, step 50/938, loss =0.042\n",
      "epoch 4/ 10, step 100/938, loss =0.116\n",
      "epoch 4/ 10, step 150/938, loss =0.162\n",
      "epoch 4/ 10, step 200/938, loss =0.074\n",
      "epoch 4/ 10, step 250/938, loss =0.060\n",
      "epoch 4/ 10, step 300/938, loss =0.042\n",
      "epoch 4/ 10, step 350/938, loss =0.042\n",
      "epoch 4/ 10, step 400/938, loss =0.045\n",
      "epoch 4/ 10, step 450/938, loss =0.031\n",
      "epoch 4/ 10, step 500/938, loss =0.076\n",
      "epoch 4/ 10, step 550/938, loss =0.077\n",
      "epoch 4/ 10, step 600/938, loss =0.088\n",
      "epoch 4/ 10, step 650/938, loss =0.032\n",
      "epoch 4/ 10, step 700/938, loss =0.066\n",
      "epoch 4/ 10, step 750/938, loss =0.056\n",
      "epoch 4/ 10, step 800/938, loss =0.047\n",
      "epoch 4/ 10, step 850/938, loss =0.054\n",
      "epoch 4/ 10, step 900/938, loss =0.059\n",
      "epoch 5/ 10, step 50/938, loss =0.035\n",
      "epoch 5/ 10, step 100/938, loss =0.133\n",
      "epoch 5/ 10, step 150/938, loss =0.055\n",
      "epoch 5/ 10, step 200/938, loss =0.013\n",
      "epoch 5/ 10, step 250/938, loss =0.088\n",
      "epoch 5/ 10, step 300/938, loss =0.043\n",
      "epoch 5/ 10, step 350/938, loss =0.011\n",
      "epoch 5/ 10, step 400/938, loss =0.018\n",
      "epoch 5/ 10, step 450/938, loss =0.045\n",
      "epoch 5/ 10, step 500/938, loss =0.037\n",
      "epoch 5/ 10, step 550/938, loss =0.015\n",
      "epoch 5/ 10, step 600/938, loss =0.025\n",
      "epoch 5/ 10, step 650/938, loss =0.038\n",
      "epoch 5/ 10, step 700/938, loss =0.015\n",
      "epoch 5/ 10, step 750/938, loss =0.094\n",
      "epoch 5/ 10, step 800/938, loss =0.070\n",
      "epoch 5/ 10, step 850/938, loss =0.032\n",
      "epoch 5/ 10, step 900/938, loss =0.016\n",
      "epoch 6/ 10, step 50/938, loss =0.043\n",
      "epoch 6/ 10, step 100/938, loss =0.012\n",
      "epoch 6/ 10, step 150/938, loss =0.030\n",
      "epoch 6/ 10, step 200/938, loss =0.016\n",
      "epoch 6/ 10, step 250/938, loss =0.019\n",
      "epoch 6/ 10, step 300/938, loss =0.010\n",
      "epoch 6/ 10, step 350/938, loss =0.040\n",
      "epoch 6/ 10, step 400/938, loss =0.035\n",
      "epoch 6/ 10, step 450/938, loss =0.033\n",
      "epoch 6/ 10, step 500/938, loss =0.068\n",
      "epoch 6/ 10, step 550/938, loss =0.066\n",
      "epoch 6/ 10, step 600/938, loss =0.014\n",
      "epoch 6/ 10, step 650/938, loss =0.028\n",
      "epoch 6/ 10, step 700/938, loss =0.002\n",
      "epoch 6/ 10, step 750/938, loss =0.011\n",
      "epoch 6/ 10, step 800/938, loss =0.018\n",
      "epoch 6/ 10, step 850/938, loss =0.064\n",
      "epoch 6/ 10, step 900/938, loss =0.055\n",
      "epoch 7/ 10, step 50/938, loss =0.038\n",
      "epoch 7/ 10, step 100/938, loss =0.010\n",
      "epoch 7/ 10, step 150/938, loss =0.016\n",
      "epoch 7/ 10, step 200/938, loss =0.009\n",
      "epoch 7/ 10, step 250/938, loss =0.007\n",
      "epoch 7/ 10, step 300/938, loss =0.040\n",
      "epoch 7/ 10, step 350/938, loss =0.017\n",
      "epoch 7/ 10, step 400/938, loss =0.008\n",
      "epoch 7/ 10, step 450/938, loss =0.003\n",
      "epoch 7/ 10, step 500/938, loss =0.005\n",
      "epoch 7/ 10, step 550/938, loss =0.032\n",
      "epoch 7/ 10, step 600/938, loss =0.065\n",
      "epoch 7/ 10, step 650/938, loss =0.019\n",
      "epoch 7/ 10, step 700/938, loss =0.058\n",
      "epoch 7/ 10, step 750/938, loss =0.010\n",
      "epoch 7/ 10, step 800/938, loss =0.007\n",
      "epoch 7/ 10, step 850/938, loss =0.036\n",
      "epoch 7/ 10, step 900/938, loss =0.011\n",
      "epoch 8/ 10, step 50/938, loss =0.011\n",
      "epoch 8/ 10, step 100/938, loss =0.003\n",
      "epoch 8/ 10, step 150/938, loss =0.010\n",
      "epoch 8/ 10, step 200/938, loss =0.031\n",
      "epoch 8/ 10, step 250/938, loss =0.010\n",
      "epoch 8/ 10, step 300/938, loss =0.032\n",
      "epoch 8/ 10, step 350/938, loss =0.008\n",
      "epoch 8/ 10, step 400/938, loss =0.012\n",
      "epoch 8/ 10, step 450/938, loss =0.057\n",
      "epoch 8/ 10, step 500/938, loss =0.016\n",
      "epoch 8/ 10, step 550/938, loss =0.044\n",
      "epoch 8/ 10, step 600/938, loss =0.039\n",
      "epoch 8/ 10, step 650/938, loss =0.003\n",
      "epoch 8/ 10, step 700/938, loss =0.016\n",
      "epoch 8/ 10, step 750/938, loss =0.011\n",
      "epoch 8/ 10, step 800/938, loss =0.004\n",
      "epoch 8/ 10, step 850/938, loss =0.003\n",
      "epoch 8/ 10, step 900/938, loss =0.016\n",
      "epoch 9/ 10, step 50/938, loss =0.014\n",
      "epoch 9/ 10, step 100/938, loss =0.002\n",
      "epoch 9/ 10, step 150/938, loss =0.023\n",
      "epoch 9/ 10, step 200/938, loss =0.010\n",
      "epoch 9/ 10, step 250/938, loss =0.008\n",
      "epoch 9/ 10, step 300/938, loss =0.002\n",
      "epoch 9/ 10, step 350/938, loss =0.006\n",
      "epoch 9/ 10, step 400/938, loss =0.024\n",
      "epoch 9/ 10, step 450/938, loss =0.009\n",
      "epoch 9/ 10, step 500/938, loss =0.010\n",
      "epoch 9/ 10, step 550/938, loss =0.004\n",
      "epoch 9/ 10, step 600/938, loss =0.018\n",
      "epoch 9/ 10, step 650/938, loss =0.003\n",
      "epoch 9/ 10, step 700/938, loss =0.005\n",
      "epoch 9/ 10, step 750/938, loss =0.009\n",
      "epoch 9/ 10, step 800/938, loss =0.036\n",
      "epoch 9/ 10, step 850/938, loss =0.030\n",
      "epoch 9/ 10, step 900/938, loss =0.006\n",
      "epoch 10/ 10, step 50/938, loss =0.004\n",
      "epoch 10/ 10, step 100/938, loss =0.004\n",
      "epoch 10/ 10, step 150/938, loss =0.015\n",
      "epoch 10/ 10, step 200/938, loss =0.002\n",
      "epoch 10/ 10, step 250/938, loss =0.022\n",
      "epoch 10/ 10, step 300/938, loss =0.007\n",
      "epoch 10/ 10, step 350/938, loss =0.017\n",
      "epoch 10/ 10, step 400/938, loss =0.001\n",
      "epoch 10/ 10, step 450/938, loss =0.019\n",
      "epoch 10/ 10, step 500/938, loss =0.001\n",
      "epoch 10/ 10, step 550/938, loss =0.003\n",
      "epoch 10/ 10, step 600/938, loss =0.018\n",
      "epoch 10/ 10, step 650/938, loss =0.018\n",
      "epoch 10/ 10, step 700/938, loss =0.002\n",
      "epoch 10/ 10, step 750/938, loss =0.016\n",
      "epoch 10/ 10, step 800/938, loss =0.009\n",
      "epoch 10/ 10, step 850/938, loss =0.005\n",
      "epoch 10/ 10, step 900/938, loss =0.005\n"
     ]
    }
   ],
   "source": [
    "# Training loop\n",
    "N_TOTAL_STEPS=len(train_loader)\n",
    "for epoch in range(EPOCHS):\n",
    "    for i, (samples,labels) in enumerate(train_loader):\n",
    "        # data shape= [100,1,28,28] we have to reahpe the data to be in  shape of 100 x 784\n",
    "        samples=samples.reshape(-1,28*28).to(device)\n",
    "        labels=labels.to(device)\n",
    "        \n",
    "        # forward pass\n",
    "        outputs=model(samples)\n",
    "        loss_=loss(outputs,labels)\n",
    "        \n",
    "        # backward pass\n",
    "        optimizer.zero_grad() \n",
    "        loss_.backward()\n",
    "        optimizer.step() # update the parameters \n",
    "        \n",
    "        if (i+1) % 50   ==0:\n",
    "            print(f'epoch {epoch+1}/ {EPOCHS}, step {i+1}/{N_TOTAL_STEPS}, loss ={loss_.item():.3f}')\n"
   ]
  },
  {
   "cell_type": "code",
   "execution_count": 38,
   "metadata": {},
   "outputs": [
    {
     "name": "stdout",
     "output_type": "stream",
     "text": [
      "The final accuracy is: 97.99%\n"
     ]
    }
   ],
   "source": [
    "# Inference\n",
    "with torch.no_grad():\n",
    "    n_correct=0\n",
    "    n_samples=0\n",
    "    for samples,labels in test_loader:\n",
    "        samples=samples.reshape(-1,28*28).to(device)\n",
    "        labels=labels.to(device)\n",
    "        outputs=model(samples)\n",
    "        _, prediction= torch.max(outputs,1) # return the value of the index\n",
    "        n_samples+=labels.shape[0]\n",
    "        n_correct+=(prediction==labels).sum().item()\n",
    "total_accuracy= (n_correct/n_samples)*100\n",
    "print(f'The final accuracy is: {total_accuracy:.2f}%')"
   ]
  },
  {
   "cell_type": "code",
   "execution_count": null,
   "metadata": {},
   "outputs": [],
   "source": []
  }
 ],
 "metadata": {
  "kernelspec": {
   "display_name": "base",
   "language": "python",
   "name": "python3"
  },
  "language_info": {
   "codemirror_mode": {
    "name": "ipython",
    "version": 3
   },
   "file_extension": ".py",
   "mimetype": "text/x-python",
   "name": "python",
   "nbconvert_exporter": "python",
   "pygments_lexer": "ipython3",
   "version": "3.8.10"
  },
  "orig_nbformat": 4
 },
 "nbformat": 4,
 "nbformat_minor": 2
}
