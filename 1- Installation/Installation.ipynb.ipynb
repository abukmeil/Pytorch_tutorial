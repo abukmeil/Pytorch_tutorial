{
 "cells": [
  {
   "attachments": {},
   "cell_type": "markdown",
   "metadata": {},
   "source": [
    "# Entry: Introduction to the Tutorial\n",
    "## <span style='color:yellow'>Welcome to the first tutorial of our PyTorch series.</span>\n",
    " ## <span style='color:yellow'>PyTorch, a premier machine learning library in Python, offers a dynamic computation graph for flexible model architecture and provides an easier transition from Python to deep learning.</span>\n",
    "## <span style='color:yellow'>Pytorch is one of the most popular machine learning and deep learning framkwork.</span>\n",
    "\n",
    "\n"
   ]
  },
  {
   "attachments": {},
   "cell_type": "markdown",
   "metadata": {},
   "source": [
    "# Installation\n",
    "## <span style='color:yellow'>Visit the PyTorch website at: <a href=\"https://pytorch.org/get-started/locally/\" style=\"color:blue; font-family: monospace;\">https://pytorch.org/get-started/locally/</a></span>\n",
    "## <span style='color:yellow'>Click on the 'Get Started' button. Then, choose the PyTorch build, OS, package, language, and CUDA version as depicted in the figure below.</span>\n",
    "\n",
    "\n",
    "<img src='website.png' class=\"center\" width=800>\n",
    "\n",
    "## <span style='color:yellow'>Keep in mind that for frameworks like PyTorch, using Anaconda is highly recommended. Therefore, 'Conda' should be the option you select in the aforementioned figure.</span>\n",
    "\n",
    "\n",
    "\n",
    "## <span style='color:yellow'>You can download and install Anaconda by searching for it on Google, or by visiting: <a href=\"https://www.anaconda.com/download\" style=\"font-family: monospace; color: blue;\">https://www.anaconda.com/download</a></span>\n",
    "\n",
    "\n",
    "## <span style='color:yellow'>By searching for \"Anaconda cheat sheet\" on Google, you can find a set of notes and reference guides, as well as commands to complete the installation and set up the environment.</span>\n",
    "\n",
    "## <span style='color:yellow'>Besides Anaconda, we also need an integrated development environment (IDE) such as PyCharm or VSCode for our Python development.</span>\n",
    "\n",
    "## <span style='color:yellow'>Remember that you can launch Anaconda from its command prompt or any shell. As an initial step, we should update conda by typing <span style='color:blue; font-family: monospace;'>conda update conda</span>. Later, we can check conda's information using <span style='color:blue; font-family: monospace;'>conda info</span>.</span>\n",
    "\n",
    "## <span style='color:yellow'>One way to create a conda environment is by typing <span style='color:blue; font-family: monospace;'>conda create --name pytorch</span>.</span>\n"
   ]
  },
  {
   "cell_type": "markdown",
   "metadata": {},
   "source": [
    "# GPU and CUDA"
   ]
  },
  {
   "cell_type": "markdown",
   "metadata": {},
   "source": [
    "# <span style='color:yellow'>For Windows or Linux users who need GPU support, installing the CUDA toolkit is essential.</span>\n",
    "\n",
    "## <span style='color:yellow'>The CUDA toolkit is a development environment designed for creating high-performance GPU-accelerated applications. Note: You must have an NVIDIA GPU in your machine.</span>\n",
    "\n",
    "### <span style='color:yellow'>Visit <a href=\"https://developer.nvidia.com/cuda-toolkit-archive\" style=\"color:blue;\">https://developer.nvidia.com/cuda-toolkit-archive</a> and download the CUDA version that corresponds with the compute platform supported by PyTorch (as depicted in the previous figure).</span>\n",
    "\n",
    "### <span style='color:yellow'> You can type <span style='color:blue; font-family: monospace;'>nvidia-smi</span> to check the CUDA compatibility with your GPU.\n",
    ".</span>\n",
    "\n",
    "\n",
    "\n"
   ]
  },
  {
   "attachments": {},
   "cell_type": "markdown",
   "metadata": {},
   "source": [
    "# Environment\n",
    "## <span style='color:yellow'>Once CUDA is successfully installed, revisit the PyTorch website (as shown in the previous figure) and identify the command required for the PyTorch installation within the environment.</span>\n",
    "\n",
    "## <span style='color:yellow'>Open a bash shell and initiate a new virtual conda environment where all packages, modules, and libraries, including PyTorch, will reside.</span>\n",
    "\n",
    "### <span style='color:yellow'>To establish a conda environment, execute the command: <span style='color:blue; font-family: monospace;'>conda create -n NAME python=VERSION</span>. Remember, 'NAME' stands for the name you designate for the environment, while 'VERSION' denotes the Python version on your system.</span>\n",
    "\n",
    "## <span style='color:yellow'>Once the environment is crafted, activate it with <span style='color:blue; font-family: monospace;'>conda activate NAME</span>. Subsequently, copy and paste the command provided on the PyTorch website (referenced in the preceding figure) and press Enter. For instance: <span style='color:blue; font-family: monospace;'>conda install pytorch torchvision torchaudio pytorch-cuda=11.8 -c pytorch -c nvidia</span>.</span>\n",
    "\n",
    "## <span style='color:yellow'>The concluding step involves linking conda with your IDE. For instance, if you're using PyCharm, modify the Python interpreter path to the newly installed conda environment. Alternatively, for users of VSCode, press Ctrl+Shift+P.</span>\n",
    "\n"
   ]
  },
  {
   "cell_type": "code",
   "execution_count": 1,
   "metadata": {},
   "outputs": [
    {
     "name": "stdout",
     "output_type": "stream",
     "text": [
      "2.0.1+cu117\n"
     ]
    }
   ],
   "source": [
    "#  After configuring the environment , we conduct the importig test\n",
    "\n",
    "import torch \n",
    "print(torch.__version__)\n",
    "\n",
    "\n",
    "# If torch not configured well, then ModuleNotFound Error will be found "
   ]
  },
  {
   "cell_type": "code",
   "execution_count": 2,
   "metadata": {},
   "outputs": [
    {
     "name": "stdout",
     "output_type": "stream",
     "text": [
      "tensor([0.6808, 0.4592, 0.1836])\n"
     ]
    }
   ],
   "source": [
    "# Create a tensor of 1d vector of five elements\n",
    "import torch\n",
    "x=torch.rand(3)\n",
    "print(x)"
   ]
  },
  {
   "cell_type": "code",
   "execution_count": 5,
   "metadata": {},
   "outputs": [
    {
     "data": {
      "text/plain": [
       "True"
      ]
     },
     "execution_count": 5,
     "metadata": {},
     "output_type": "execute_result"
    }
   ],
   "source": [
    "# Check if cuda is available or not\n",
    "torch.cuda.is_available()"
   ]
  }
 ],
 "metadata": {
  "kernelspec": {
   "display_name": "base",
   "language": "python",
   "name": "python3"
  },
  "language_info": {
   "codemirror_mode": {
    "name": "ipython",
    "version": 3
   },
   "file_extension": ".py",
   "mimetype": "text/x-python",
   "name": "python",
   "nbconvert_exporter": "python",
   "pygments_lexer": "ipython3",
   "version": "3.8.10"
  },
  "orig_nbformat": 4
 },
 "nbformat": 4,
 "nbformat_minor": 2
}
