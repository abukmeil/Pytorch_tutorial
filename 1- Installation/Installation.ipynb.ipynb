{
 "cells": [
  {
   "attachments": {},
   "cell_type": "markdown",
   "metadata": {},
   "source": [
    "# Entry \n",
    "## <span style='color:yellow'>Welcome to the first tutorial of our PyTorch series.</span>\n",
    " ## <span style='color:yellow'>PyTorch, a premier machine learning library in Python, offers a dynamic computation graph for flexible model architecture and provides an easier transition from Python to deep learning.</span>\n",
    "## <span style='color:yellow'>Pytorch is one of the most popular machine learning and deep learning framkwork.</span>\n",
    "\n",
    "\n"
   ]
  },
  {
   "attachments": {},
   "cell_type": "markdown",
   "metadata": {},
   "source": [
    "# Installation\n",
    "## <span style='color:yellow'>We go for the Pytorch website : https://pytorch.org/get-started/locally/</span>\n",
    "## <span style='color:yellow'>Click on the 'Get Started' button, then select the PyTorch build, OS, package, language, and CUDA  as shown in the figure below.\"</span> \n",
    "\n",
    "<img src='website.png' class=\"center\" width=800>\n",
    "\n",
    "## <span style='color:yellow'>Keep in mind that for a framework like PyTorch, using Anaconda is highly recommended. Therefore, 'Conda' should be the package you select in the above figure.<span>\n",
    "\n",
    "\n",
    "## <span style='color:yellow'>For Windows or Linux users seeking GPU support, it's necessary to install the CUDA toolkit.<span>\n",
    "\n",
    "## <span style='color:yellow'>The CUDA toolkit is a development environment designed for crafting high-performance GPU-accelerated applications. Note: An NVIDIA GPU is required in your machine.</span>\n",
    "### <span style='color:yellow'>Visit https://developer.nvidia.com/cuda-toolkit-archive and download the CUDA version that aligns with the compute platform supported by PyTorch (as shown in the previous figure).</span>"
   ]
  },
  {
   "attachments": {},
   "cell_type": "markdown",
   "metadata": {},
   "source": [
    "# Environment\n",
    "## <span style='color:yellow'>If CUDA is successfully installed, return to the PyTorch website (refer to the previous figure) and select the command to be used within the environment for PyTorch installation.</span>\n",
    "## <span style='color:yellow'>Open the bash shell and establish a new virtual conda environment where all packages, modules, libraries, including PyTorch, will be installed.</span>\n",
    "### <span style='color:yellow'>To create a conda environment, use the command: 'conda create -n NAME python=VERSION'. Keep in mind that 'NAME' represents your chosen environment name, and 'VERSION' corresponds to the Python version installed on your machine.</span>\n",
    "## <span style='color:yellow'>After creating the environment, activate it using the command 'conda activate NAME'. Then, copy and paste the 'RUN THIS COMMAND' from the PyTorch website (refer to the previous figure) and hit Enter. For example: 'conda install pytorch torchvision torchaudio pytorch-cuda=11.8 -c pytorch -c nvidia'.</span>\n"
   ]
  },
  {
   "attachments": {},
   "cell_type": "markdown",
   "metadata": {},
   "source": []
  },
  {
   "cell_type": "code",
   "execution_count": 2,
   "metadata": {},
   "outputs": [],
   "source": [
    "#  After configuring the environment , we conduct the importig test\n",
    "\n",
    "#import torch \n",
    "\n",
    "# If torch not configured well, then ModuleNotFound Error will be found "
   ]
  },
  {
   "cell_type": "code",
   "execution_count": 4,
   "metadata": {},
   "outputs": [
    {
     "name": "stdout",
     "output_type": "stream",
     "text": [
      "tensor([0.0147, 0.6664, 0.5354, 0.5266, 0.2927])\n"
     ]
    }
   ],
   "source": [
    "# Create a tensor of 1d vector of five elements\n",
    "import torch\n",
    "x=torch.rand(5)\n",
    "print(x)"
   ]
  },
  {
   "cell_type": "code",
   "execution_count": 5,
   "metadata": {},
   "outputs": [
    {
     "data": {
      "text/plain": [
       "True"
      ]
     },
     "execution_count": 5,
     "metadata": {},
     "output_type": "execute_result"
    }
   ],
   "source": [
    "# Check if cuda is available or not\n",
    "torch.cuda.is_available()"
   ]
  },
  {
   "cell_type": "code",
   "execution_count": null,
   "metadata": {},
   "outputs": [],
   "source": []
  }
 ],
 "metadata": {
  "kernelspec": {
   "display_name": "base",
   "language": "python",
   "name": "python3"
  },
  "language_info": {
   "codemirror_mode": {
    "name": "ipython",
    "version": 3
   },
   "file_extension": ".py",
   "mimetype": "text/x-python",
   "name": "python",
   "nbconvert_exporter": "python",
   "pygments_lexer": "ipython3",
   "version": "3.8.10"
  },
  "orig_nbformat": 4
 },
 "nbformat": 4,
 "nbformat_minor": 2
}
