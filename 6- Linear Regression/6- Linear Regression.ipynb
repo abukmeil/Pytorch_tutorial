{
 "cells": [
  {
   "attachments": {},
   "cell_type": "markdown",
   "metadata": {},
   "source": [
    "<h1>Linear Regression</h1> \n"
   ]
  },
  {
   "attachments": {},
   "cell_type": "markdown",
   "metadata": {},
   "source": [
    "<h3 span style='color:yellow'>Pytorch training Pipeline:</h3>\n",
    "<ul>\n",
    "<li style=\"color:yellow;\"><span style=\"font-size:18px;\">Importing libraries.</span></li>\n",
    "<li style=\"color:yellow;\"><span style=\"font-size:18px;\">Design the model by specifying the number of inputs and outputs, and by crafting the forward pass with various operations and layers: Design the model (inputs, outputs, forward pass).</span></li>\n",
    "<li style=\"color:yellow;\"><span style=\"font-size:18px;\">Construct loss and optimizer.</span></li>\n",
    "<li style=\"color:yellow; font-size:18px;\">Implement the training loop:</li>\n",
    "  <ul>\n",
    "  <li style=\"color:yellow;\"><span style=\"font-size:18px;\">Initialization: Start with initial guesses for weights.</span></li>\n",
    "  <li style=\"color:yellow;\"><span style=\"font-size:18px;\">Forward pass: Compute the predicted outputs by passing the inputs through the model.</span></li>\n",
    "  <li style=\"color:yellow;\"><span style=\"font-size:18px;\">Compute Loss: Evaluate the error of the predicted output against the actual output using the loss function.</span></li>\n",
    "  <li style=\"color:yellow;\"><span style=\"font-size:18px;\">Backward pass (Backpropagation): Compute the gradients of the loss with respect to the model parameters.</span></li>\n",
    "  <li style=\"color:yellow;\"><span style=\"font-size:18px;\">Update weights: Adjust the model parameters (weights and biases) using a predetermined optimization algorithm like Stochastic Gradient Descent (SGD) or Adam.</span></li>\n",
    "  <li style=\"color:yellow;\"><span style=\"font-size:18px;\">Evaluate: Periodically check the model performance on the validation set.</span></li>\n",
    "  <li style=\"color:yellow;\"><span style=\"font-size:18px;\">Repeat: Until the performance on the validation set stops improving or after a fixed number of iterations.</span></li>\n",
    "  </ul>\n",
    "</ul>\n"
   ]
  },
  {
   "cell_type": "code",
   "execution_count": 1,
   "metadata": {},
   "outputs": [],
   "source": [
    "# Importing libraries\n",
    "import torch\n",
    "import torch.nn as nn\n",
    "from sklearn import datasets\n",
    "import numpy as np\n",
    "import matplotlib.pyplot as plt"
   ]
  },
  {
   "cell_type": "code",
   "execution_count": 2,
   "metadata": {},
   "outputs": [
    {
     "data": {
      "text/plain": [
       "numpy.float64"
      ]
     },
     "execution_count": 2,
     "metadata": {},
     "output_type": "execute_result"
    }
   ],
   "source": [
    "# Data prepreparation\n",
    "X_numpy, y_numpy=datasets.make_regression(n_samples=100,n_features=1,noise=20,random_state=1234)\n",
    "type(X_numpy[0][0])"
   ]
  },
  {
   "cell_type": "code",
   "execution_count": 3,
   "metadata": {},
   "outputs": [
    {
     "data": {
      "text/plain": [
       "torch.Size([100])"
      ]
     },
     "execution_count": 3,
     "metadata": {},
     "output_type": "execute_result"
    }
   ],
   "source": [
    "# numpy to tensor flow conversion\n",
    "X=torch.from_numpy(X_numpy.astype(np.float32))\n",
    "y=torch.from_numpy(y_numpy.astype(np.float32))\n",
    "y.shape\n"
   ]
  },
  {
   "cell_type": "code",
   "execution_count": 4,
   "metadata": {},
   "outputs": [],
   "source": [
    "# In the machine learning tutorial, we didn't use PyTorch and therefore didn't reshape y. However, for this case, y should be reshaped from a row vector to a column vector\n",
    "y=y.view(y.shape[0],1)\n",
    "n_samples,n_features=X.shape\n"
   ]
  },
  {
   "cell_type": "code",
   "execution_count": 5,
   "metadata": {},
   "outputs": [],
   "source": [
    "# Model setting up\n",
    "# The built-in linear model is used from ttorch.nn\n",
    "\n",
    "input_size=n_features\n",
    "output_size=1   # we want to map the feature values (points) into one output value for linear regression\n",
    "model=nn.Linear(input_size,output_size)"
   ]
  },
  {
   "cell_type": "code",
   "execution_count": 6,
   "metadata": {},
   "outputs": [],
   "source": [
    "# Loss and optimizer\n",
    "LR=0.01\n",
    "EPOCHS=100\n",
    "loss_fn=nn.MSELoss()\n",
    "optimizer=torch.optim.SGD(model.parameters(),lr=LR)"
   ]
  },
  {
   "cell_type": "code",
   "execution_count": 7,
   "metadata": {},
   "outputs": [
    {
     "name": "stdout",
     "output_type": "stream",
     "text": [
      "epoch: 1|| Loss: 7919.3320 || Weights: tensor([2.2402], grad_fn=<SelectBackward0>) \n",
      "epoch: 3|| Loss: 7332.4863 || Weights: tensor([5.6121], grad_fn=<SelectBackward0>) \n",
      "epoch: 5|| Loss: 6790.9927 || Weights: tensor([8.8512], grad_fn=<SelectBackward0>) \n",
      "epoch: 7|| Loss: 6291.3408 || Weights: tensor([11.9629], grad_fn=<SelectBackward0>) \n",
      "epoch: 9|| Loss: 5830.2949 || Weights: tensor([14.9521], grad_fn=<SelectBackward0>) \n",
      "epoch: 11|| Loss: 5404.8682 || Weights: tensor([17.8236], grad_fn=<SelectBackward0>) \n",
      "epoch: 13|| Loss: 5012.3052 || Weights: tensor([20.5822], grad_fn=<SelectBackward0>) \n",
      "epoch: 15|| Loss: 4650.0645 || Weights: tensor([23.2322], grad_fn=<SelectBackward0>) \n",
      "epoch: 17|| Loss: 4315.8008 || Weights: tensor([25.7779], grad_fn=<SelectBackward0>) \n",
      "epoch: 19|| Loss: 4007.3513 || Weights: tensor([28.2234], grad_fn=<SelectBackward0>) \n",
      "epoch: 21|| Loss: 3722.7197 || Weights: tensor([30.5727], grad_fn=<SelectBackward0>) \n",
      "epoch: 23|| Loss: 3460.0649 || Weights: tensor([32.8296], grad_fn=<SelectBackward0>) \n",
      "epoch: 25|| Loss: 3217.6882 || Weights: tensor([34.9977], grad_fn=<SelectBackward0>) \n",
      "epoch: 27|| Loss: 2994.0212 || Weights: tensor([37.0804], grad_fn=<SelectBackward0>) \n",
      "epoch: 29|| Loss: 2787.6191 || Weights: tensor([39.0813], grad_fn=<SelectBackward0>) \n",
      "epoch: 31|| Loss: 2597.1475 || Weights: tensor([41.0034], grad_fn=<SelectBackward0>) \n",
      "epoch: 33|| Loss: 2421.3748 || Weights: tensor([42.8500], grad_fn=<SelectBackward0>) \n",
      "epoch: 35|| Loss: 2259.1655 || Weights: tensor([44.6239], grad_fn=<SelectBackward0>) \n",
      "epoch: 37|| Loss: 2109.4729 || Weights: tensor([46.3280], grad_fn=<SelectBackward0>) \n",
      "epoch: 39|| Loss: 1971.3282 || Weights: tensor([47.9651], grad_fn=<SelectBackward0>) \n",
      "epoch: 41|| Loss: 1843.8406 || Weights: tensor([49.5378], grad_fn=<SelectBackward0>) \n",
      "epoch: 43|| Loss: 1726.1864 || Weights: tensor([51.0487], grad_fn=<SelectBackward0>) \n",
      "epoch: 45|| Loss: 1617.6067 || Weights: tensor([52.5002], grad_fn=<SelectBackward0>) \n",
      "epoch: 47|| Loss: 1517.4009 || Weights: tensor([53.8946], grad_fn=<SelectBackward0>) \n",
      "epoch: 49|| Loss: 1424.9219 || Weights: tensor([55.2341], grad_fn=<SelectBackward0>) \n",
      "epoch: 51|| Loss: 1339.5735 || Weights: tensor([56.5210], grad_fn=<SelectBackward0>) \n",
      "epoch: 53|| Loss: 1260.8051 || Weights: tensor([57.7573], grad_fn=<SelectBackward0>) \n",
      "epoch: 55|| Loss: 1188.1086 || Weights: tensor([58.9450], grad_fn=<SelectBackward0>) \n",
      "epoch: 57|| Loss: 1121.0161 || Weights: tensor([60.0860], grad_fn=<SelectBackward0>) \n",
      "epoch: 59|| Loss: 1059.0945 || Weights: tensor([61.1822], grad_fn=<SelectBackward0>) \n",
      "epoch: 61|| Loss: 1001.9451 || Weights: tensor([62.2352], grad_fn=<SelectBackward0>) \n",
      "epoch: 63|| Loss: 949.1994 || Weights: tensor([63.2469], grad_fn=<SelectBackward0>) \n",
      "epoch: 65|| Loss: 900.5179 || Weights: tensor([64.2188], grad_fn=<SelectBackward0>) \n",
      "epoch: 67|| Loss: 855.5873 || Weights: tensor([65.1525], grad_fn=<SelectBackward0>) \n",
      "epoch: 69|| Loss: 814.1177 || Weights: tensor([66.0496], grad_fn=<SelectBackward0>) \n",
      "epoch: 71|| Loss: 775.8424 || Weights: tensor([66.9113], grad_fn=<SelectBackward0>) \n",
      "epoch: 73|| Loss: 740.5153 || Weights: tensor([67.7392], grad_fn=<SelectBackward0>) \n",
      "epoch: 75|| Loss: 707.9086 || Weights: tensor([68.5346], grad_fn=<SelectBackward0>) \n",
      "epoch: 77|| Loss: 677.8131 || Weights: tensor([69.2987], grad_fn=<SelectBackward0>) \n",
      "epoch: 79|| Loss: 650.0347 || Weights: tensor([70.0328], grad_fn=<SelectBackward0>) \n",
      "epoch: 81|| Loss: 624.3950 || Weights: tensor([70.7381], grad_fn=<SelectBackward0>) \n",
      "epoch: 83|| Loss: 600.7290 || Weights: tensor([71.4156], grad_fn=<SelectBackward0>) \n",
      "epoch: 85|| Loss: 578.8849 || Weights: tensor([72.0666], grad_fn=<SelectBackward0>) \n",
      "epoch: 87|| Loss: 558.7223 || Weights: tensor([72.6919], grad_fn=<SelectBackward0>) \n",
      "epoch: 89|| Loss: 540.1114 || Weights: tensor([73.2927], grad_fn=<SelectBackward0>) \n",
      "epoch: 91|| Loss: 522.9324 || Weights: tensor([73.8699], grad_fn=<SelectBackward0>) \n",
      "epoch: 93|| Loss: 507.0753 || Weights: tensor([74.4245], grad_fn=<SelectBackward0>) \n",
      "epoch: 95|| Loss: 492.4382 || Weights: tensor([74.9572], grad_fn=<SelectBackward0>) \n",
      "epoch: 97|| Loss: 478.9272 || Weights: tensor([75.4690], grad_fn=<SelectBackward0>) \n",
      "epoch: 99|| Loss: 466.4555 || Weights: tensor([75.9608], grad_fn=<SelectBackward0>) \n"
     ]
    }
   ],
   "source": [
    "# Optimization loop\n",
    "for epoch in range(EPOCHS):\n",
    "    # Forward pass\n",
    "    y_predicted=model(X)\n",
    "    # Loss\n",
    "    loss=loss_fn(y_predicted,y)\n",
    "    # Backpropagation\n",
    "    loss.backward()\n",
    "  \n",
    "    optimizer.step()\n",
    "    #The .grad attribute accumulates the gradients, so we need to clear them using the following line of code \n",
    "    optimizer.zero_grad()\n",
    "\n",
    "    if epoch%2==0:\n",
    "        [w,b]=model.parameters()\n",
    "        print(f'epoch: {epoch+1}|| Loss: {loss.item():.4f} || Weights: {w[0]} ')\n"
   ]
  },
  {
   "cell_type": "code",
   "execution_count": 12,
   "metadata": {},
   "outputs": [
    {
     "data": {
      "image/png": "[encoded data removed]",
      "text/plain": [
       "<Figure size 432x288 with 1 Axes>"
      ]
     },
     "metadata": {
      "needs_background": "light"
     },
     "output_type": "display_data"
    }
   ],
   "source": [
    "# Inference: note th eprediction should be converted to numpy for pltting and post processing\n",
    "prediction=model(X).detach().numpy()  # We need to detach this operation beacuse we do not need it to be a prat form the computational graph because it has the attribute require_grad=True\\\n",
    "plt.plot(X_numpy[:,0],y_numpy,'ro') # plot as red dot\n",
    "plt.plot(X_numpy[:,0],prediction,'b')\n",
    "plt.show()"
   ]
  },
  {
   "cell_type": "code",
   "execution_count": 84,
   "metadata": {},
   "outputs": [
    {
     "data": {
      "text/plain": [
       "[<matplotlib.lines.Line2D at 0x7f53f0622d30>]"
      ]
     },
     "execution_count": 84,
     "metadata": {},
     "output_type": "execute_result"
    },
    {
     "data": {
      "image/png": "[encoded data removed]",
      "text/plain": [
       "<Figure size 432x288 with 1 Axes>"
      ]
     },
     "metadata": {
      "needs_background": "light"
     },
     "output_type": "display_data"
    }
   ],
   "source": [
    "plt.scatter(X_numpy[:,0],y_numpy,marker='o',s=20,label='Train')\n",
    "plt.plot(X[:,0],prediction,color='k')"
   ]
  }
 ],
 "metadata": {
  "kernelspec": {
   "display_name": "base",
   "language": "python",
   "name": "python3"
  },
  "language_info": {
   "codemirror_mode": {
    "name": "ipython",
    "version": 3
   },
   "file_extension": ".py",
   "mimetype": "text/x-python",
   "name": "python",
   "nbconvert_exporter": "python",
   "pygments_lexer": "ipython3",
   "version": "3.8.10"
  },
  "orig_nbformat": 4
 },
 "nbformat": 4,
 "nbformat_minor": 2
}
