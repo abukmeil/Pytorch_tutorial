{
 "cells": [
  {
   "attachments": {},
   "cell_type": "markdown",
   "metadata": {},
   "source": [
    "# Tensors \n",
    "## <span style='color:yellow'>In this tutorial, we will explore how to manipulate tensors and perform basic operations.</span>"
   ]
  },
  {
   "attachments": {},
   "cell_type": "markdown",
   "metadata": {},
   "source": [
    "# Pytorch and Numpy Conversion \n",
    "## <span style='color:yellow'>PyTorch primarily relies on tensor operations.</span>\n",
    "## <span style='color:yellow'>In numpy, data is represented as vectors and arrays.</span>\n",
    "## <span style='color:yellow'> PyTorch represents data as tensors that can exist in different dimensions, such as 1-D, 2-D, 3-D, and so forth.</span>"
   ]
  },
  {
   "attachments": {},
   "cell_type": "markdown",
   "metadata": {},
   "source": [
    "# Creating tensors \n"
   ]
  },
  {
   "cell_type": "code",
   "execution_count": 2,
   "metadata": {},
   "outputs": [
    {
     "name": "stdout",
     "output_type": "stream",
     "text": [
      "tensor([0.])\n",
      "tensor([-7.9798e-24,  3.0775e-41,  2.2801e-13])\n",
      "tensor([[-9.8499e-27,  3.0775e-41, -8.0315e-24],\n",
      "        [ 3.0775e-41,  8.9683e-44,  0.0000e+00]])\n",
      "tensor([[[0.0000e+00, 0.0000e+00, 2.3824e-14],\n",
      "         [4.5712e-41, 0.0000e+00, 0.0000e+00]],\n",
      "\n",
      "        [[0.0000e+00, 0.0000e+00, 0.0000e+00],\n",
      "         [0.0000e+00, 0.0000e+00, 0.0000e+00]]])\n"
     ]
    }
   ],
   "source": [
    "# Creating an empty tensor with a scalar value\n",
    "import torch\n",
    "x=torch.empty(1)\n",
    "print(x)\n",
    "\n",
    "# Cretaing 1-d vector with three elements\n",
    "x=torch.empty(3)\n",
    "print(x)\n",
    "\n",
    "# Cretaing an array of 2 rows and 3 columns\n",
    "x=torch.empty(2,3)\n",
    "print(x)\n",
    "\n",
    "# Cretaing 3-d tensor\n",
    "x=torch.empty(2,2,3)\n",
    "print(x)"
   ]
  },
  {
   "cell_type": "code",
   "execution_count": 3,
   "metadata": {},
   "outputs": [
    {
     "name": "stdout",
     "output_type": "stream",
     "text": [
      "tensor([[0.9806, 0.8670, 0.6571],\n",
      "        [0.2288, 0.4661, 0.8821],\n",
      "        [0.2974, 0.4568, 0.5876]])\n"
     ]
    }
   ],
   "source": [
    "# Creating a tensor with random float values\n",
    "x=torch.rand(3,3)\n",
    "print(x)"
   ]
  },
  {
   "cell_type": "code",
   "execution_count": 4,
   "metadata": {},
   "outputs": [
    {
     "name": "stdout",
     "output_type": "stream",
     "text": [
      "tensor([[0., 0., 0.],\n",
      "        [0., 0., 0.],\n",
      "        [0., 0., 0.]])\n",
      "\n",
      "tensor([[1., 1., 1.],\n",
      "        [1., 1., 1.],\n",
      "        [1., 1., 1.]])\n"
     ]
    }
   ],
   "source": [
    "# Creating a zero tensor\n",
    "x=torch.zeros(3,3)\n",
    "print(x)\n",
    "print(\"\")\n",
    "# Creating a tensor of ones\n",
    "x=torch.ones(3,3)\n",
    "print(x)"
   ]
  },
  {
   "cell_type": "code",
   "execution_count": 67,
   "metadata": {},
   "outputs": [
    {
     "name": "stdout",
     "output_type": "stream",
     "text": [
      "torch.float32\n",
      " \n",
      "tensor([[1, 1, 1],\n",
      "        [1, 1, 1],\n",
      "        [1, 1, 1]], dtype=torch.int32)\n",
      " \n",
      "tensor([[1., 1., 1.],\n",
      "        [1., 1., 1.],\n",
      "        [1., 1., 1.]], dtype=torch.float16)\n",
      "torch.Size([3, 3])\n"
     ]
    }
   ],
   "source": [
    "# The default data type is float32, but we can change that to any data type.\n",
    "print(x.dtype)\n",
    "print(\" \")\n",
    "\n",
    "# Create a tensor with int values\n",
    "x=torch.ones(3,3,dtype=torch.int)\n",
    "print(x)\n",
    "print(\" \")\n",
    "# Create a tensor with float16 values\n",
    "x=torch.ones(3,3,dtype=torch.float16)\n",
    "print(x)\n",
    "print(x.size())\n"
   ]
  },
  {
   "cell_type": "code",
   "execution_count": 5,
   "metadata": {},
   "outputs": [
    {
     "name": "stdout",
     "output_type": "stream",
     "text": [
      "tensor([2.5000, 2.3000])\n"
     ]
    }
   ],
   "source": [
    "# Construct a tensor form data, e.g., a list\n",
    "x=torch.tensor([2.5,2.3])\n",
    "print(x)"
   ]
  },
  {
   "attachments": {},
   "cell_type": "markdown",
   "metadata": {},
   "source": [
    "# Basic operations\n"
   ]
  },
  {
   "cell_type": "code",
   "execution_count": 7,
   "metadata": {},
   "outputs": [
    {
     "name": "stdout",
     "output_type": "stream",
     "text": [
      "tensor([[0.5766, 0.2793, 0.9393],\n",
      "        [0.6883, 0.8253, 0.7010],\n",
      "        [0.1870, 0.7968, 0.1098]])\n",
      "\n",
      "tensor([[0.6917, 0.6036, 0.5631],\n",
      "        [0.5804, 0.1175, 0.4490],\n",
      "        [0.2280, 0.7360, 0.0334]])\n"
     ]
    },
    {
     "data": {
      "text/plain": [
       "(None, None)"
      ]
     },
     "execution_count": 7,
     "metadata": {},
     "output_type": "execute_result"
    }
   ],
   "source": [
    "x=torch.rand(3,3)\n",
    "y=torch.rand(3,3)\n",
    "\n",
    "print(x); print(\"\"), print(y) "
   ]
  },
  {
   "cell_type": "code",
   "execution_count": 8,
   "metadata": {},
   "outputs": [
    {
     "name": "stdout",
     "output_type": "stream",
     "text": [
      "tensor([[1.2682, 0.8829, 1.5025],\n",
      "        [1.2687, 0.9427, 1.1500],\n",
      "        [0.4149, 1.5328, 0.1432]])\n",
      " \n",
      "tensor([[1.2682, 0.8829, 1.5025],\n",
      "        [1.2687, 0.9427, 1.1500],\n",
      "        [0.4149, 1.5328, 0.1432]])\n",
      "\n",
      "tensor([[1.2682, 0.8829, 1.5025],\n",
      "        [1.2687, 0.9427, 1.1500],\n",
      "        [0.4149, 1.5328, 0.1432]])\n"
     ]
    }
   ],
   "source": [
    "# Addition\n",
    "z=x+y\n",
    "print(z)\n",
    "print(\" \")\n",
    "\n",
    "# Alternative addition\n",
    "z=torch.add(x,y)\n",
    "print(z)\n",
    "print(\"\")\n",
    "\n",
    "# Inplace addition\n",
    "y.add_(x)  # Note in the Pytorch any method that contains trailing _ is applied in place.\n",
    "print(y)  "
   ]
  },
  {
   "cell_type": "code",
   "execution_count": 9,
   "metadata": {},
   "outputs": [
    {
     "name": "stdout",
     "output_type": "stream",
     "text": [
      "tensor([[-0.6917, -0.6036, -0.5631],\n",
      "        [-0.5804, -0.1175, -0.4490],\n",
      "        [-0.2280, -0.7360, -0.0334]])\n"
     ]
    }
   ],
   "source": [
    "# Subtraction\n",
    "z=x-y\n",
    "print(z)"
   ]
  },
  {
   "cell_type": "code",
   "execution_count": 10,
   "metadata": {},
   "outputs": [
    {
     "name": "stdout",
     "output_type": "stream",
     "text": [
      "tensor([[0.7312, 0.2466, 1.4113],\n",
      "        [0.8732, 0.7780, 0.8061],\n",
      "        [0.0776, 1.2214, 0.0157]])\n",
      "\n",
      "tensor([[0.7312, 0.2466, 1.4113],\n",
      "        [0.8732, 0.7780, 0.8061],\n",
      "        [0.0776, 1.2214, 0.0157]])\n"
     ]
    }
   ],
   "source": [
    "# Multiplication\n",
    "z= x*y\n",
    "print(z)\n",
    "print(\"\")\n",
    "\n",
    "z=torch.mul(x,y)\n",
    "print(z)"
   ]
  },
  {
   "cell_type": "code",
   "execution_count": 15,
   "metadata": {},
   "outputs": [
    {
     "name": "stdout",
     "output_type": "stream",
     "text": [
      "tensor([[0.2813, 0.6537, 0.5260],\n",
      "        [0.5614, 0.7041, 0.6153],\n",
      "        [0.3806, 0.2670, 0.5228],\n",
      "        [0.4200, 0.4503, 0.7490],\n",
      "        [0.2669, 0.4182, 0.9161]])\n",
      " \n",
      "tensor([[0.2813, 0.6537, 0.5260],\n",
      "        [0.5614, 0.7041, 0.6153],\n",
      "        [0.3806, 0.2670, 0.5228],\n",
      "        [0.4200, 0.4503, 0.7490],\n",
      "        [0.2669, 0.4182, 0.9161]])\n",
      "\n",
      "tensor([0.2813, 0.5614, 0.3806, 0.4200, 0.2669])\n",
      "\n",
      "tensor([0.2813, 0.6537, 0.5260])\n",
      "\n",
      "0.6153056025505066\n"
     ]
    }
   ],
   "source": [
    "# Slicing operation\n",
    "x=torch.rand(5,3)\n",
    "print(x)\n",
    "print(\" \")\n",
    "print(x[:])\n",
    "print(\"\")\n",
    "\n",
    "# Printing the first column of data\n",
    "print(x[:,0])\n",
    "print(\"\")\n",
    "\n",
    "# Printing the first row of data\n",
    "print(x[0,:])\n",
    "print('')\n",
    "# Unpacking the value of a tensor of one item of one tensor\n",
    "print(x[1,2].item())\n",
    "# The above method is used with a tensor of one item only to be converted into python scalar"
   ]
  },
  {
   "cell_type": "code",
   "execution_count": 11,
   "metadata": {},
   "outputs": [
    {
     "name": "stdout",
     "output_type": "stream",
     "text": [
      "tensor([[0.9241, 0.3915, 0.3164, 0.2593],\n",
      "        [0.1752, 0.4162, 0.0398, 0.7481],\n",
      "        [0.9380, 0.2594, 0.7280, 0.0851],\n",
      "        [0.6097, 0.9400, 0.7184, 0.8456]])\n",
      " \n",
      "tensor([0.9241, 0.3915, 0.3164, 0.2593, 0.1752, 0.4162, 0.0398, 0.7481, 0.9380,\n",
      "        0.2594, 0.7280, 0.0851, 0.6097, 0.9400, 0.7184, 0.8456])\n",
      " \n",
      "tensor([[0.7392, 0.8282],\n",
      "        [0.7864, 0.1779],\n",
      "        [0.3874, 0.4246],\n",
      "        [0.5933, 0.3213],\n",
      "        [0.7418, 0.4424],\n",
      "        [0.8600, 0.4696],\n",
      "        [0.4687, 0.4312],\n",
      "        [0.0561, 0.2449],\n",
      "        [0.5461, 0.3221]])\n"
     ]
    }
   ],
   "source": [
    "# Reshaping tensor\n",
    "x=torch.rand(4,4)\n",
    "print(x)\n",
    "print(\" \")\n",
    "y=x.view(16)\n",
    "print(y)\n",
    "print(\" \")\n",
    "\n",
    "x=torch.rand(18)\n",
    "y=x.view(9,2)\n",
    "print(y)"
   ]
  },
  {
   "cell_type": "code",
   "execution_count": 20,
   "metadata": {},
   "outputs": [
    {
     "name": "stdout",
     "output_type": "stream",
     "text": [
      "tensor([[0.7152, 0.4581, 0.2520, 0.7003, 0.2104, 0.8307, 0.9998, 0.4327, 0.7307],\n",
      "        [0.6956, 0.2398, 0.3148, 0.8643, 0.9919, 0.2183, 0.1639, 0.0801, 0.6860]])\n"
     ]
    }
   ],
   "source": [
    "# If you do not want to specify the first shape arguments (# rows), then pass -1 and Pytorch will automaticaaly select the best shape\n",
    "x=torch.rand(18)\n",
    "y=x.view(-1,9)\n",
    "print(y)"
   ]
  },
  {
   "attachments": {},
   "cell_type": "markdown",
   "metadata": {},
   "source": [
    "# Numpy and Pytorch conversion\n"
   ]
  },
  {
   "cell_type": "code",
   "execution_count": 13,
   "metadata": {},
   "outputs": [
    {
     "name": "stdout",
     "output_type": "stream",
     "text": [
      "tensor([1., 1., 1., 1., 1.])\n",
      " \n",
      "[1. 1. 1. 1. 1.]\n",
      "<class 'numpy.ndarray'>\n"
     ]
    }
   ],
   "source": [
    "import numpy as np\n",
    "\n",
    "# Creating a tensor of ones\n",
    "x=torch.ones(5)\n",
    "print(x)\n",
    "print(\" \")\n",
    "# Conversion to numpy\n",
    "y=x.numpy()\n",
    "print(y)\n",
    "print(type(y))"
   ]
  },
  {
   "cell_type": "code",
   "execution_count": 15,
   "metadata": {},
   "outputs": [
    {
     "name": "stdout",
     "output_type": "stream",
     "text": [
      "tensor([1., 1., 1., 1., 1.])\n",
      " \n",
      "[1. 1. 1. 1. 1.]\n",
      " \n",
      "tensor([4., 4., 4., 4., 4.])\n",
      "[4. 4. 4. 4. 4.]\n"
     ]
    }
   ],
   "source": [
    "# Note: If the tensors are located in the CPU (NOT the GPUs), then the tensor and converted np array point to the same memory address.\n",
    "x=torch.ones(5)\n",
    "print(x)\n",
    "print(\" \")\n",
    "\n",
    "# Conversion to numpy\n",
    "y=x.numpy()\n",
    "print(y)\n",
    "print(\" \")\n",
    "\n",
    "# Let us add 3 inplace to all matrix x. Note again: anay  method with trainling _ is used in place\n",
    "x.add_(3)\n",
    "print(x)\n",
    "print(y)\n",
    "\n",
    "# Thus be carfull when you make the conversion and using the inplace methods\n"
   ]
  },
  {
   "cell_type": "code",
   "execution_count": 21,
   "metadata": {},
   "outputs": [
    {
     "name": "stdout",
     "output_type": "stream",
     "text": [
      "[1. 1. 1. 1. 1.]\n",
      "tensor([1., 1., 1., 1., 1.], dtype=torch.float64)\n",
      " \n",
      "[6. 6. 6. 6. 6.]\n",
      " \n",
      "tensor([6., 6., 6., 6., 6.], dtype=torch.float64)\n",
      " \n",
      "tensor([1., 1., 1., 1., 1.])\n"
     ]
    }
   ],
   "source": [
    "# Numpy to Pytorch conversion\n",
    "x=np.ones(5)\n",
    "print(x)\n",
    "\n",
    "# Coversion\n",
    "y = torch.from_numpy(x)\n",
    "y1 = torch.from_numpy(x).to(torch.float32)\n",
    "\n",
    "print(y)\n",
    "print(\" \")\n",
    "\n",
    "x+=5\n",
    "\n",
    "print(x)\n",
    "print(\" \")\n",
    "print(y)\n",
    "print(\" \")\n",
    "print(y1)  # This will not be modified"
   ]
  },
  {
   "cell_type": "code",
   "execution_count": 22,
   "metadata": {},
   "outputs": [
    {
     "name": "stdout",
     "output_type": "stream",
     "text": [
      "The total number of availabe GPUs are: 4\n",
      "\n",
      "Details from the GPU 0\n",
      "Name : NVIDIA RTX A6000\n",
      "Compute cabability: 8.6\n",
      "Total memory: 47.54 GB\n",
      "\n",
      "Details from the GPU 1\n",
      "Name : NVIDIA RTX A6000\n",
      "Compute cabability: 8.6\n",
      "Total memory: 47.54 GB\n",
      "\n",
      "Details from the GPU 2\n",
      "Name : NVIDIA RTX A6000\n",
      "Compute cabability: 8.6\n",
      "Total memory: 47.54 GB\n",
      "\n",
      "Details from the GPU 3\n",
      "Name : NVIDIA RTX A6000\n",
      "Compute cabability: 8.6\n",
      "Total memory: 47.54 GB\n"
     ]
    }
   ],
   "source": [
    "# Check if the GPU is available or not\n",
    "if torch.cuda.is_available():\n",
    "    print(f'The total number of availabe GPUs are: {torch.cuda.device_count()}')\n",
    "\n",
    "for i in range(torch.cuda.device_count()):\n",
    "    device=torch.cuda.get_device_properties(i)\n",
    "    print(f'\\nDetails from the GPU {i}')\n",
    "    print(f'Name : {device.name}')\n",
    "    print(f'Compute cabability: {device.major}.{device.minor}')\n",
    "    print(f'Total memory: {device.total_memory/1024**3:.2f} GB')\n"
   ]
  },
  {
   "cell_type": "code",
   "execution_count": 23,
   "metadata": {},
   "outputs": [
    {
     "name": "stdout",
     "output_type": "stream",
     "text": [
      "tensor([[1.0930, 1.5082, 0.3159, 0.6554, 0.5713],\n",
      "        [1.6058, 0.7760, 0.7064, 0.7070, 0.4914],\n",
      "        [1.1805, 0.6797, 0.9797, 1.1089, 1.7404],\n",
      "        [1.4968, 0.9599, 1.3378, 1.2644, 1.1787],\n",
      "        [1.3601, 0.7138, 0.4702, 1.6812, 0.6898]], device='cuda:0')\n"
     ]
    }
   ],
   "source": [
    "# Creating a tensor into a GPU\n",
    "if torch.cuda.is_available():\n",
    "    device=torch.device(\"cuda:0\") # We can set the desired gpu\n",
    "    x=torch.rand(5,5,device=device)\n",
    "    # Alternativelly\n",
    "    y=torch.rand(5,5)\n",
    "    y=y.to(device)\n",
    "    # Addition\n",
    "    z=x+y\n",
    "    print(z)"
   ]
  },
  {
   "cell_type": "code",
   "execution_count": 24,
   "metadata": {},
   "outputs": [
    {
     "name": "stdout",
     "output_type": "stream",
     "text": [
      "<class 'numpy.ndarray'>\n"
     ]
    }
   ],
   "source": [
    "# Note: Numpy can handle only cpu tensors, thus the follwoing line of code will return an error\n",
    "#z.numpy()\n",
    "\n",
    "# Thus we can move z from the GPU to cpu to convert it into numpy\n",
    "z=z.to(\"cpu\")\n",
    "\n",
    "znumpy=z.numpy()\n",
    "print(type(znumpy))"
   ]
  },
  {
   "cell_type": "code",
   "execution_count": 37,
   "metadata": {},
   "outputs": [
    {
     "name": "stdout",
     "output_type": "stream",
     "text": [
      "tensor([[0.1184, 0.4573, 0.5545, 0.1520, 0.5867, 0.6577],\n",
      "        [0.2050, 0.3934, 0.4485, 0.9007, 0.0036, 0.3371],\n",
      "        [0.0056, 0.5949, 0.8334, 0.0306, 0.7424, 0.8395],\n",
      "        [0.4566, 0.2756, 0.9948, 0.7113, 0.0781, 0.5844],\n",
      "        [0.1381, 0.2350, 0.8446, 0.5974, 0.3487, 0.8691]], requires_grad=True)\n"
     ]
    }
   ],
   "source": [
    "# Telling pytorch that the tensor need to calculate the gradient\n",
    "x=torch.rand(5,6,requires_grad=True) \n",
    "print(x) # requires_grad=True will be printed and in informs teh pytorch that the tensor require gradient calculations."
   ]
  },
  {
   "cell_type": "code",
   "execution_count": 27,
   "metadata": {},
   "outputs": [
    {
     "name": "stdout",
     "output_type": "stream",
     "text": [
      "tensor([[0.8278, 0.0268, 0.8620, 0.0368, 0.6558],\n",
      "        [0.3227, 0.1824, 0.3449, 0.4699, 0.8693],\n",
      "        [0.3718, 0.6464, 0.3250, 0.1720, 0.6946],\n",
      "        [0.7781, 0.3550, 0.7605, 0.2204, 0.9655],\n",
      "        [0.6405, 0.1738, 0.8970, 0.4033, 0.4720]], requires_grad=True)\n"
     ]
    }
   ],
   "source": [
    "x=torch.rand(5,5,requires_grad=True)\n",
    "print(x)"
   ]
  }
 ],
 "metadata": {
  "kernelspec": {
   "display_name": "base",
   "language": "python",
   "name": "python3"
  },
  "language_info": {
   "codemirror_mode": {
    "name": "ipython",
    "version": 3
   },
   "file_extension": ".py",
   "mimetype": "text/x-python",
   "name": "python",
   "nbconvert_exporter": "python",
   "pygments_lexer": "ipython3",
   "version": "3.8.10"
  },
  "orig_nbformat": 4
 },
 "nbformat": 4,
 "nbformat_minor": 2
}
